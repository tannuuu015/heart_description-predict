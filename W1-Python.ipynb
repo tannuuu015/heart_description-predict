{
 "cells": [
  {
   "attachments": {},
   "cell_type": "markdown",
   "metadata": {
    "id": "zFeef0aaLCRp"
   },
   "source": [
    "# Cú pháp của python"
   ]
  },
  {
   "attachments": {},
   "cell_type": "markdown",
   "metadata": {
    "id": "qkZRwE6z3dYC"
   },
   "source": [
    "## 1. In ra màn hình"
   ]
  },
  {
   "cell_type": "markdown",
   "metadata": {
    "id": "JbxbjjSjAjym"
   },
   "source": [
    "- Dùng nháy đơn hay nháy kép sẽ như nhau"
   ]
  },
  {
   "cell_type": "code",
   "execution_count": null,
   "metadata": {
    "colab": {
     "base_uri": "https://localhost:8080/"
    },
    "executionInfo": {
     "elapsed": 25,
     "status": "ok",
     "timestamp": 1681120328817,
     "user": {
      "displayName": "Hồ Trường",
      "userId": "11354465266874689807"
     },
     "user_tz": -420
    },
    "id": "gDO5qugjAgej",
    "outputId": "04c78bfd-e5c8-4e72-bb90-f1eb9d1f4a9d"
   },
   "outputs": [
    {
     "name": "stdout",
     "output_type": "stream",
     "text": [
      "hello world!!!\n"
     ]
    }
   ],
   "source": [
    "print('hello world!!!')"
   ]
  },
  {
   "cell_type": "code",
   "execution_count": null,
   "metadata": {
    "colab": {
     "base_uri": "https://localhost:8080/"
    },
    "executionInfo": {
     "elapsed": 583,
     "status": "ok",
     "timestamp": 1681120332383,
     "user": {
      "displayName": "Hồ Trường",
      "userId": "11354465266874689807"
     },
     "user_tz": -420
    },
    "id": "Lc9cP2hbArYm",
    "outputId": "9bedd493-7008-4ec8-b679-04d88835f4bf"
   },
   "outputs": [
    {
     "name": "stdout",
     "output_type": "stream",
     "text": [
      "hello world!!!\n"
     ]
    }
   ],
   "source": [
    "print(\"hello world!!!\")"
   ]
  },
  {
   "cell_type": "markdown",
   "metadata": {
    "id": "IO2OaiNsAv1L"
   },
   "source": [
    "- Vì python không có kiểu dữ liệu char như c++ nên nháy đơn là không cần thiết\n",
    "- Có thể dùng đan xen giữa nháy đơn và nháy kép để thể hiện những dấu nháy mà không khiến chương trình gặp lỗi"
   ]
  },
  {
   "cell_type": "code",
   "execution_count": 1,
   "metadata": {},
   "outputs": [
    {
     "data": {
      "text/plain": [
       "'hello world!!!'"
      ]
     },
     "execution_count": 1,
     "metadata": {},
     "output_type": "execute_result"
    }
   ],
   "source": [
    "\"hello world!!!\""
   ]
  },
  {
   "attachments": {},
   "cell_type": "markdown",
   "metadata": {},
   "source": [
    "- Có thể xuất kết quả ra mà không cần print"
   ]
  },
  {
   "cell_type": "code",
   "execution_count": null,
   "metadata": {
    "colab": {
     "base_uri": "https://localhost:8080/"
    },
    "executionInfo": {
     "elapsed": 272,
     "status": "ok",
     "timestamp": 1681120405815,
     "user": {
      "displayName": "Hồ Trường",
      "userId": "11354465266874689807"
     },
     "user_tz": -420
    },
    "id": "KwJaqeYLB679",
    "outputId": "24eba6a4-d57e-411e-dd5e-79d9ddb3dfa1"
   },
   "outputs": [
    {
     "name": "stdout",
     "output_type": "stream",
     "text": [
      "What's your name?\n"
     ]
    }
   ],
   "source": [
    "print(\"What's your name?\")"
   ]
  },
  {
   "cell_type": "code",
   "execution_count": null,
   "metadata": {
    "colab": {
     "base_uri": "https://localhost:8080/"
    },
    "executionInfo": {
     "elapsed": 296,
     "status": "ok",
     "timestamp": 1681120414896,
     "user": {
      "displayName": "Hồ Trường",
      "userId": "11354465266874689807"
     },
     "user_tz": -420
    },
    "id": "NfSdo0OyAtoO",
    "outputId": "95b4122d-7cb9-47ff-9796-b72d04a58dcc"
   },
   "outputs": [
    {
     "name": "stdout",
     "output_type": "stream",
     "text": [
      "He said, \"I am ok!\"\n"
     ]
    }
   ],
   "source": [
    "print('He said, \"I am ok!\"')"
   ]
  },
  {
   "cell_type": "code",
   "execution_count": null,
   "metadata": {
    "colab": {
     "base_uri": "https://localhost:8080/"
    },
    "executionInfo": {
     "elapsed": 271,
     "status": "ok",
     "timestamp": 1681120474682,
     "user": {
      "displayName": "Hồ Trường",
      "userId": "11354465266874689807"
     },
     "user_tz": -420
    },
    "id": "8dZUs0HHmNZb",
    "outputId": "a00fbe34-4f24-4324-9eb0-88d2e09084d1"
   },
   "outputs": [
    {
     "name": "stdout",
     "output_type": "stream",
     "text": [
      "What's your name?Kết thúc câu và xuống dòng\n",
      "He said, \"I am ok!\"\n"
     ]
    }
   ],
   "source": [
    "print(\"What's your name?\",end = 'Kết thúc câu và xuống dòng\\n')\n",
    "print('He said, \"I am ok!\"')"
   ]
  },
  {
   "cell_type": "code",
   "execution_count": null,
   "metadata": {
    "colab": {
     "base_uri": "https://localhost:8080/"
    },
    "executionInfo": {
     "elapsed": 424,
     "status": "ok",
     "timestamp": 1671869813556,
     "user": {
      "displayName": "Hồ Trường",
      "userId": "11354465266874689807"
     },
     "user_tz": -420
    },
    "id": "R614RpjumhMz",
    "outputId": "ccac4f60-9d8c-4b3b-9f5f-e9924678f875"
   },
   "outputs": [
    {
     "name": "stdout",
     "output_type": "stream",
     "text": [
      "What's your name? : He said, \"I am ok!\"\n"
     ]
    }
   ],
   "source": [
    "print(\"What's your name?\",'He said, \"I am ok!\"',sep = \" : \")"
   ]
  },
  {
   "attachments": {},
   "cell_type": "markdown",
   "metadata": {
    "id": "yv1AzauryKX9"
   },
   "source": [
    "## 2. Kiểu dữ liệu và biến trong python"
   ]
  },
  {
   "attachments": {},
   "cell_type": "markdown",
   "metadata": {
    "id": "Xnfg07PDyU6-"
   },
   "source": [
    "### 2.1. Các kiểu dữ liệu trong python"
   ]
  },
  {
   "attachments": {},
   "cell_type": "markdown",
   "metadata": {
    "id": "EfmWSHXuyVAz"
   },
   "source": [
    "- int: số nguyên\n",
    "- float: số thực\n",
    "- complex: số phức\n",
    "- bool: kiểu logic\n",
    "- string: xâu ký tự\n",
    "- list: danh sách\n",
    "- range: kiểu chuỗi số có quy luật\n",
    "- tuple: bộ dữ liệu\n",
    "- set: tập hợp\n",
    "- dict: từ điển\n",
    "\n"
   ]
  },
  {
   "cell_type": "markdown",
   "metadata": {
    "id": "yWL1wC65ajMa"
   },
   "source": [
    "Chạy lệnh type để kiểm tra kiểu dữ liệu"
   ]
  },
  {
   "cell_type": "code",
   "execution_count": null,
   "metadata": {
    "colab": {
     "base_uri": "https://localhost:8080/"
    },
    "executionInfo": {
     "elapsed": 314,
     "status": "ok",
     "timestamp": 1681098751974,
     "user": {
      "displayName": "Hồ Trường",
      "userId": "11354465266874689807"
     },
     "user_tz": -420
    },
    "id": "mZ50qWj7Ng_w",
    "outputId": "e1d8af3d-c16e-4e30-e504-550bc7d66322"
   },
   "outputs": [
    {
     "data": {
      "text/plain": [
       "float"
      ]
     },
     "execution_count": 14,
     "metadata": {},
     "output_type": "execute_result"
    }
   ],
   "source": [
    "type(1.0)"
   ]
  },
  {
   "cell_type": "code",
   "execution_count": null,
   "metadata": {
    "colab": {
     "base_uri": "https://localhost:8080/"
    },
    "executionInfo": {
     "elapsed": 310,
     "status": "ok",
     "timestamp": 1681098756842,
     "user": {
      "displayName": "Hồ Trường",
      "userId": "11354465266874689807"
     },
     "user_tz": -420
    },
    "id": "xZkVsQ0kS0Ht",
    "outputId": "529a39c4-08f6-490e-87ed-b2ec090d96af"
   },
   "outputs": [
    {
     "data": {
      "text/plain": [
       "int"
      ]
     },
     "execution_count": 15,
     "metadata": {},
     "output_type": "execute_result"
    }
   ],
   "source": [
    "type(1)"
   ]
  },
  {
   "cell_type": "code",
   "execution_count": null,
   "metadata": {
    "colab": {
     "base_uri": "https://localhost:8080/"
    },
    "executionInfo": {
     "elapsed": 299,
     "status": "ok",
     "timestamp": 1681098764270,
     "user": {
      "displayName": "Hồ Trường",
      "userId": "11354465266874689807"
     },
     "user_tz": -420
    },
    "id": "VPyNKGEpS1ky",
    "outputId": "28457f0a-3509-4bd2-e20b-cadbe61a20d2"
   },
   "outputs": [
    {
     "data": {
      "text/plain": [
       "str"
      ]
     },
     "execution_count": 16,
     "metadata": {},
     "output_type": "execute_result"
    }
   ],
   "source": [
    "type('1')"
   ]
  },
  {
   "cell_type": "code",
   "execution_count": null,
   "metadata": {
    "colab": {
     "base_uri": "https://localhost:8080/"
    },
    "executionInfo": {
     "elapsed": 277,
     "status": "ok",
     "timestamp": 1681120590467,
     "user": {
      "displayName": "Hồ Trường",
      "userId": "11354465266874689807"
     },
     "user_tz": -420
    },
    "id": "eop7e7FTmGIm",
    "outputId": "5158bc29-6679-47f2-d1b1-b0fdf3cc0f44"
   },
   "outputs": [
    {
     "data": {
      "text/plain": [
       "bool"
      ]
     },
     "execution_count": 8,
     "metadata": {},
     "output_type": "execute_result"
    }
   ],
   "source": [
    "type(True)"
   ]
  },
  {
   "cell_type": "code",
   "execution_count": null,
   "metadata": {
    "colab": {
     "base_uri": "https://localhost:8080/"
    },
    "executionInfo": {
     "elapsed": 379,
     "status": "ok",
     "timestamp": 1681120605641,
     "user": {
      "displayName": "Hồ Trường",
      "userId": "11354465266874689807"
     },
     "user_tz": -420
    },
    "id": "cI-tlq7xmI16",
    "outputId": "f28b73eb-7a38-4a30-eb5b-12efab131f17"
   },
   "outputs": [
    {
     "data": {
      "text/plain": [
       "list"
      ]
     },
     "execution_count": 9,
     "metadata": {},
     "output_type": "execute_result"
    }
   ],
   "source": [
    "type([])"
   ]
  },
  {
   "attachments": {},
   "cell_type": "markdown",
   "metadata": {
    "id": "12GwhPZ-SRLb"
   },
   "source": [
    "### 2.2. Biến trong python"
   ]
  },
  {
   "cell_type": "markdown",
   "metadata": {
    "id": "HBMp4FZxYNKX"
   },
   "source": [
    "Biến trong python không có kiểu dữ liệu xác định. \n",
    "\n",
    "Không cần khai báo kiểu dữ liệu khi khai báo biến\n",
    "\n",
    "Một biến có thể có kiểu dữ liệu khác nhau trong những thời điểm khác nhau."
   ]
  },
  {
   "cell_type": "code",
   "execution_count": null,
   "metadata": {
    "colab": {
     "base_uri": "https://localhost:8080/"
    },
    "executionInfo": {
     "elapsed": 291,
     "status": "ok",
     "timestamp": 1671583647966,
     "user": {
      "displayName": "Hồ Trường",
      "userId": "11354465266874689807"
     },
     "user_tz": -420
    },
    "id": "ijBEx0xLYQcv",
    "outputId": "5b80be93-7aff-4eb3-bb17-64b2aae2578c"
   },
   "outputs": [
    {
     "name": "stdout",
     "output_type": "stream",
     "text": [
      "<class 'int'>\n",
      "<class 'float'>\n"
     ]
    }
   ],
   "source": [
    "a = 1\n",
    "print(type(a))\n",
    "a = 1.2\n",
    "print(type(a))"
   ]
  },
  {
   "cell_type": "code",
   "execution_count": null,
   "metadata": {
    "colab": {
     "base_uri": "https://localhost:8080/"
    },
    "executionInfo": {
     "elapsed": 315,
     "status": "ok",
     "timestamp": 1671870022927,
     "user": {
      "displayName": "Hồ Trường",
      "userId": "11354465266874689807"
     },
     "user_tz": -420
    },
    "id": "MWDXIeGVnVq_",
    "outputId": "c22170c5-48ae-44cf-9bc1-d78847e207fa"
   },
   "outputs": [
    {
     "name": "stdout",
     "output_type": "stream",
     "text": [
      "999999999999999999999999999999999999999999999999999999999999999999999999900000000000000000000000000000000000000000000000\n"
     ]
    }
   ],
   "source": [
    "a = 9999999999999999999999999999999999999999999999999999999999999999999999999\n",
    "print(a*100000000000000000000000000000000000000000000000)"
   ]
  },
  {
   "cell_type": "code",
   "execution_count": null,
   "metadata": {
    "colab": {
     "base_uri": "https://localhost:8080/"
    },
    "executionInfo": {
     "elapsed": 282,
     "status": "ok",
     "timestamp": 1671870052008,
     "user": {
      "displayName": "Hồ Trường",
      "userId": "11354465266874689807"
     },
     "user_tz": -420
    },
    "id": "uqxO5vGankzO",
    "outputId": "283fe58f-52fb-486f-bf23-381dc79c24fa"
   },
   "outputs": [
    {
     "name": "stdout",
     "output_type": "stream",
     "text": [
      "1.0\n"
     ]
    }
   ],
   "source": [
    "a = 0.999999999999999999999999999999999999999999999999999999999999999999999999\n",
    "print(a)"
   ]
  },
  {
   "attachments": {},
   "cell_type": "markdown",
   "metadata": {},
   "source": [
    "**số nguyên**"
   ]
  },
  {
   "cell_type": "code",
   "execution_count": null,
   "metadata": {
    "colab": {
     "base_uri": "https://localhost:8080/"
    },
    "executionInfo": {
     "elapsed": 338,
     "status": "ok",
     "timestamp": 1671870063395,
     "user": {
      "displayName": "Hồ Trường",
      "userId": "11354465266874689807"
     },
     "user_tz": -420
    },
    "id": "1T4ouNcSamdI",
    "outputId": "50f182e8-0707-4f58-a17d-8a02bb1dbde0"
   },
   "outputs": [
    {
     "name": "stdout",
     "output_type": "stream",
     "text": [
      "<class 'int'>\n"
     ]
    }
   ],
   "source": [
    "a = 1\n",
    "print(type(a))"
   ]
  },
  {
   "attachments": {},
   "cell_type": "markdown",
   "metadata": {},
   "source": [
    "**Số thực**"
   ]
  },
  {
   "cell_type": "code",
   "execution_count": null,
   "metadata": {
    "colab": {
     "base_uri": "https://localhost:8080/"
    },
    "executionInfo": {
     "elapsed": 6,
     "status": "ok",
     "timestamp": 1671870063943,
     "user": {
      "displayName": "Hồ Trường",
      "userId": "11354465266874689807"
     },
     "user_tz": -420
    },
    "id": "KqDw8DIVapea",
    "outputId": "a08c0be2-5185-4782-ad7b-50208ffdb69c"
   },
   "outputs": [
    {
     "name": "stdout",
     "output_type": "stream",
     "text": [
      "<class 'float'>\n"
     ]
    }
   ],
   "source": [
    "a = 1.0\n",
    "print(type(a))"
   ]
  },
  {
   "attachments": {},
   "cell_type": "markdown",
   "metadata": {},
   "source": [
    "**Logic**"
   ]
  },
  {
   "cell_type": "code",
   "execution_count": null,
   "metadata": {
    "colab": {
     "base_uri": "https://localhost:8080/"
    },
    "executionInfo": {
     "elapsed": 300,
     "status": "ok",
     "timestamp": 1671583709507,
     "user": {
      "displayName": "Hồ Trường",
      "userId": "11354465266874689807"
     },
     "user_tz": -420
    },
    "id": "j5RDePOEavCs",
    "outputId": "808cbc8b-76ad-47a6-e27c-a775915562ef"
   },
   "outputs": [
    {
     "name": "stdout",
     "output_type": "stream",
     "text": [
      "<class 'bool'>\n"
     ]
    }
   ],
   "source": [
    "a = False\n",
    "print(type(a))"
   ]
  },
  {
   "attachments": {},
   "cell_type": "markdown",
   "metadata": {},
   "source": [
    "**Chuỗi ký tự**"
   ]
  },
  {
   "cell_type": "code",
   "execution_count": null,
   "metadata": {
    "colab": {
     "base_uri": "https://localhost:8080/"
    },
    "executionInfo": {
     "elapsed": 340,
     "status": "ok",
     "timestamp": 1681120724498,
     "user": {
      "displayName": "Hồ Trường",
      "userId": "11354465266874689807"
     },
     "user_tz": -420
    },
    "id": "0WhLFimaayKM",
    "outputId": "c714248f-c048-44cc-a04a-3502e9c7f2d6"
   },
   "outputs": [
    {
     "name": "stdout",
     "output_type": "stream",
     "text": [
      "<class 'str'>\n"
     ]
    }
   ],
   "source": [
    "a = 'hello world!'\n",
    "print(type(a))"
   ]
  },
  {
   "attachments": {},
   "cell_type": "markdown",
   "metadata": {},
   "source": [
    "**Phương pháp lấy ra ký tự**"
   ]
  },
  {
   "cell_type": "code",
   "execution_count": null,
   "metadata": {
    "colab": {
     "base_uri": "https://localhost:8080/",
     "height": 35
    },
    "executionInfo": {
     "elapsed": 276,
     "status": "ok",
     "timestamp": 1681121001431,
     "user": {
      "displayName": "Hồ Trường",
      "userId": "11354465266874689807"
     },
     "user_tz": -420
    },
    "id": "z0GQGUBHmn3b",
    "outputId": "ee525f98-ed62-4b7b-bfd8-09981b2cce15"
   },
   "outputs": [
    {
     "data": {
      "application/vnd.google.colaboratory.intrinsic+json": {
       "type": "string"
      },
      "text/plain": [
       "'!dlrow olleh'"
      ]
     },
     "execution_count": 20,
     "metadata": {},
     "output_type": "execute_result"
    }
   ],
   "source": [
    "a[::-1]"
   ]
  },
  {
   "cell_type": "markdown",
   "metadata": {
    "id": "DpxIkSUEoe7z"
   },
   "source": [
    "```\n",
    "a[start:end:step]\n",
    "```"
   ]
  },
  {
   "cell_type": "code",
   "execution_count": null,
   "metadata": {
    "colab": {
     "base_uri": "https://localhost:8080/",
     "height": 35
    },
    "executionInfo": {
     "elapsed": 305,
     "status": "ok",
     "timestamp": 1681099267116,
     "user": {
      "displayName": "Hồ Trường",
      "userId": "11354465266874689807"
     },
     "user_tz": -420
    },
    "id": "bRb6dDQgOyGW",
    "outputId": "92b95f1b-ba85-4399-e156-80c85b51bf08"
   },
   "outputs": [
    {
     "data": {
      "application/vnd.google.colaboratory.intrinsic+json": {
       "type": "string"
      },
      "text/plain": [
       "'low'"
      ]
     },
     "execution_count": 30,
     "metadata": {},
     "output_type": "execute_result"
    }
   ],
   "source": [
    "a[2:8:2]"
   ]
  },
  {
   "attachments": {},
   "cell_type": "markdown",
   "metadata": {},
   "source": [
    "**Danh sách**"
   ]
  },
  {
   "cell_type": "code",
   "execution_count": null,
   "metadata": {
    "colab": {
     "base_uri": "https://localhost:8080/"
    },
    "executionInfo": {
     "elapsed": 297,
     "status": "ok",
     "timestamp": 1681099271097,
     "user": {
      "displayName": "Hồ Trường",
      "userId": "11354465266874689807"
     },
     "user_tz": -420
    },
    "id": "WVbmBU_qa3Ni",
    "outputId": "0130b846-4e67-4536-a197-f317d97e218e"
   },
   "outputs": [
    {
     "name": "stdout",
     "output_type": "stream",
     "text": [
      "<class 'list'>\n"
     ]
    }
   ],
   "source": [
    "a = [1,2,3,4,5]\n",
    "type(a)"
   ]
  },
  {
   "cell_type": "code",
   "execution_count": null,
   "metadata": {
    "colab": {
     "base_uri": "https://localhost:8080/"
    },
    "executionInfo": {
     "elapsed": 338,
     "status": "ok",
     "timestamp": 1681099285604,
     "user": {
      "displayName": "Hồ Trường",
      "userId": "11354465266874689807"
     },
     "user_tz": -420
    },
    "id": "5Km7lexvJ4c1",
    "outputId": "eeed1d23-eec6-4fec-db46-8d742ed048be"
   },
   "outputs": [
    {
     "data": {
      "text/plain": [
       "[3, 5, 7]"
      ]
     },
     "execution_count": 32,
     "metadata": {},
     "output_type": "execute_result"
    }
   ],
   "source": [
    "a = [1,2,3,4,5,6,7,8,9]\n",
    "a[2:8:2]"
   ]
  },
  {
   "cell_type": "code",
   "execution_count": null,
   "metadata": {
    "colab": {
     "base_uri": "https://localhost:8080/"
    },
    "executionInfo": {
     "elapsed": 288,
     "status": "ok",
     "timestamp": 1681121068466,
     "user": {
      "displayName": "Hồ Trường",
      "userId": "11354465266874689807"
     },
     "user_tz": -420
    },
    "id": "PrwVm7ssa9vt",
    "outputId": "3fe4d73b-b07a-4e00-ace2-3eb1004120fc"
   },
   "outputs": [
    {
     "name": "stdout",
     "output_type": "stream",
     "text": [
      "<class 'range'>\n"
     ]
    }
   ],
   "source": [
    "a = range(10)\n",
    "print(type(a))"
   ]
  },
  {
   "cell_type": "markdown",
   "metadata": {
    "id": "sDcxW0Jao4EC"
   },
   "source": [
    "```\n",
    "range(start:end:step)\n",
    "```"
   ]
  },
  {
   "cell_type": "code",
   "execution_count": null,
   "metadata": {
    "colab": {
     "base_uri": "https://localhost:8080/"
    },
    "executionInfo": {
     "elapsed": 305,
     "status": "ok",
     "timestamp": 1681099296162,
     "user": {
      "displayName": "Hồ Trường",
      "userId": "11354465266874689807"
     },
     "user_tz": -420
    },
    "id": "BhFWvtpPoqEz",
    "outputId": "fc8773e3-e0e3-49a8-a8ad-d789f570ae8d"
   },
   "outputs": [
    {
     "name": "stdout",
     "output_type": "stream",
     "text": [
      "[11, 9, 7, 5, 3, 1]\n"
     ]
    }
   ],
   "source": [
    "print(list(range(11,0,-2)))"
   ]
  },
  {
   "cell_type": "code",
   "execution_count": null,
   "metadata": {
    "colab": {
     "base_uri": "https://localhost:8080/"
    },
    "executionInfo": {
     "elapsed": 335,
     "status": "ok",
     "timestamp": 1671870374003,
     "user": {
      "displayName": "Hồ Trường",
      "userId": "11354465266874689807"
     },
     "user_tz": -420
    },
    "id": "DLOIjxQJbCyp",
    "outputId": "98d1e612-4639-44b7-b1b2-2e3aa564dbd8"
   },
   "outputs": [
    {
     "name": "stdout",
     "output_type": "stream",
     "text": [
      "<class 'tuple'>\n"
     ]
    }
   ],
   "source": [
    "a = (1,2,3)\n",
    "print(type(a))"
   ]
  },
  {
   "cell_type": "code",
   "execution_count": null,
   "metadata": {
    "colab": {
     "base_uri": "https://localhost:8080/"
    },
    "executionInfo": {
     "elapsed": 314,
     "status": "ok",
     "timestamp": 1681099349560,
     "user": {
      "displayName": "Hồ Trường",
      "userId": "11354465266874689807"
     },
     "user_tz": -420
    },
    "id": "PYE34y7GpXy4",
    "outputId": "56c0d1e9-3757-44f8-f4bf-a74938b90db0"
   },
   "outputs": [
    {
     "name": "stdout",
     "output_type": "stream",
     "text": [
      "[10, 2, 3, 4, 5]\n"
     ]
    }
   ],
   "source": [
    "b = [1,2,3,4,5]\n",
    "b[0]=10\n",
    "print(b)"
   ]
  },
  {
   "attachments": {},
   "cell_type": "markdown",
   "metadata": {},
   "source": [
    "**tuple**"
   ]
  },
  {
   "cell_type": "code",
   "execution_count": null,
   "metadata": {
    "colab": {
     "base_uri": "https://localhost:8080/",
     "height": 183
    },
    "executionInfo": {
     "elapsed": 272,
     "status": "error",
     "timestamp": 1681121115630,
     "user": {
      "displayName": "Hồ Trường",
      "userId": "11354465266874689807"
     },
     "user_tz": -420
    },
    "id": "o-l5byb9ptTH",
    "outputId": "6f9eefaf-dc18-473f-ce8c-c8cb2bf1cb2b"
   },
   "outputs": [
    {
     "ename": "TypeError",
     "evalue": "ignored",
     "output_type": "error",
     "traceback": [
      "\u001b[0;31m---------------------------------------------------------------------------\u001b[0m",
      "\u001b[0;31mTypeError\u001b[0m                                 Traceback (most recent call last)",
      "\u001b[0;32m<ipython-input-22-5eeb0c73e240>\u001b[0m in \u001b[0;36m<cell line: 2>\u001b[0;34m()\u001b[0m\n\u001b[1;32m      1\u001b[0m \u001b[0ma\u001b[0m \u001b[0;34m=\u001b[0m \u001b[0;34m(\u001b[0m\u001b[0;36m1\u001b[0m\u001b[0;34m,\u001b[0m\u001b[0;36m2\u001b[0m\u001b[0;34m,\u001b[0m\u001b[0;36m3\u001b[0m\u001b[0;34m)\u001b[0m\u001b[0;34m\u001b[0m\u001b[0;34m\u001b[0m\u001b[0m\n\u001b[0;32m----> 2\u001b[0;31m \u001b[0ma\u001b[0m\u001b[0;34m[\u001b[0m\u001b[0;36m0\u001b[0m\u001b[0;34m]\u001b[0m \u001b[0;34m=\u001b[0m \u001b[0;36m10\u001b[0m\u001b[0;34m\u001b[0m\u001b[0;34m\u001b[0m\u001b[0m\n\u001b[0m",
      "\u001b[0;31mTypeError\u001b[0m: 'tuple' object does not support item assignment"
     ]
    }
   ],
   "source": [
    "a = (1,2,3)\n",
    "a[0] = 10"
   ]
  },
  {
   "attachments": {},
   "cell_type": "markdown",
   "metadata": {},
   "source": [
    "**Tập hợp (set)**"
   ]
  },
  {
   "cell_type": "code",
   "execution_count": null,
   "metadata": {
    "colab": {
     "base_uri": "https://localhost:8080/"
    },
    "executionInfo": {
     "elapsed": 297,
     "status": "ok",
     "timestamp": 1681121127700,
     "user": {
      "displayName": "Hồ Trường",
      "userId": "11354465266874689807"
     },
     "user_tz": -420
    },
    "id": "mYNhIRhIc8NE",
    "outputId": "a517abf0-36ec-4b27-ee89-d6346caaedef"
   },
   "outputs": [
    {
     "name": "stdout",
     "output_type": "stream",
     "text": [
      "<class 'set'>\n",
      "{1, 2, 3}\n"
     ]
    }
   ],
   "source": [
    "a = {1,2,3,2,1}\n",
    "print(type(a))\n",
    "print(a)"
   ]
  },
  {
   "attachments": {},
   "cell_type": "markdown",
   "metadata": {},
   "source": [
    "**dict**"
   ]
  },
  {
   "cell_type": "code",
   "execution_count": null,
   "metadata": {
    "colab": {
     "base_uri": "https://localhost:8080/"
    },
    "executionInfo": {
     "elapsed": 282,
     "status": "ok",
     "timestamp": 1681121130956,
     "user": {
      "displayName": "Hồ Trường",
      "userId": "11354465266874689807"
     },
     "user_tz": -420
    },
    "id": "9gJ1IY-WdBi3",
    "outputId": "80390993-9477-424d-d233-d91140e3fb60"
   },
   "outputs": [
    {
     "name": "stdout",
     "output_type": "stream",
     "text": [
      "<class 'dict'>\n",
      "value\n"
     ]
    }
   ],
   "source": [
    "a = {'key':'value'}\n",
    "print(type(a))\n",
    "print(a['key'])"
   ]
  },
  {
   "cell_type": "code",
   "execution_count": null,
   "metadata": {
    "id": "Ad6UxhxiVOjr"
   },
   "outputs": [],
   "source": [
    "tudien_dongvat = {'cho':'36 km/h','meo':'40 km/h','bao':'60 km/h'}\n"
   ]
  },
  {
   "cell_type": "code",
   "execution_count": null,
   "metadata": {
    "colab": {
     "base_uri": "https://localhost:8080/"
    },
    "executionInfo": {
     "elapsed": 278,
     "status": "ok",
     "timestamp": 1681121228964,
     "user": {
      "displayName": "Hồ Trường",
      "userId": "11354465266874689807"
     },
     "user_tz": -420
    },
    "id": "ORxZKUzQqJWu",
    "outputId": "3782914a-eadd-4268-bd98-4771d5174166"
   },
   "outputs": [
    {
     "name": "stdout",
     "output_type": "stream",
     "text": [
      "{'cho': '36 km/h', 'meo': '40 km/h', 'bao': '60 km/h', 1: 10}\n"
     ]
    }
   ],
   "source": [
    "tudien_dongvat[1] = 10\n",
    "print(tudien_dongvat)"
   ]
  },
  {
   "cell_type": "code",
   "execution_count": null,
   "metadata": {
    "colab": {
     "base_uri": "https://localhost:8080/"
    },
    "executionInfo": {
     "elapsed": 428,
     "status": "ok",
     "timestamp": 1681121268437,
     "user": {
      "displayName": "Hồ Trường",
      "userId": "11354465266874689807"
     },
     "user_tz": -420
    },
    "id": "SfsVvxxvqRvl",
    "outputId": "8bde8d3f-4ced-4f24-b218-b309fee961b8"
   },
   "outputs": [
    {
     "name": "stdout",
     "output_type": "stream",
     "text": [
      "{'cho': '36 km/h', 'meo': '40 km/h', 'bao': '60 km/h', 1: 10, ('An', 1): 'an thích an bánh mỳ'}\n"
     ]
    }
   ],
   "source": [
    "tudien_dongvat[('An',1)]= 'an thích an bánh mỳ'\n",
    "print(tudien_dongvat)"
   ]
  },
  {
   "cell_type": "code",
   "execution_count": null,
   "metadata": {
    "colab": {
     "base_uri": "https://localhost:8080/"
    },
    "executionInfo": {
     "elapsed": 300,
     "status": "ok",
     "timestamp": 1681121279163,
     "user": {
      "displayName": "Hồ Trường",
      "userId": "11354465266874689807"
     },
     "user_tz": -420
    },
    "id": "2TarNcHhot12",
    "outputId": "7a6158d7-c0d3-4868-b6f6-d9637afced85"
   },
   "outputs": [
    {
     "name": "stdout",
     "output_type": "stream",
     "text": [
      "{'cho': '36 km/h', 'meo': '40 km/h', 'bao': '60 km/h', 1: 10, ('An', 1): 'an thích an phở'}\n"
     ]
    }
   ],
   "source": [
    "tudien_dongvat[('An',1)]= 'an thích an phở'\n",
    "print(tudien_dongvat)"
   ]
  },
  {
   "cell_type": "code",
   "execution_count": null,
   "metadata": {
    "colab": {
     "base_uri": "https://localhost:8080/",
     "height": 183
    },
    "executionInfo": {
     "elapsed": 276,
     "status": "error",
     "timestamp": 1681121244635,
     "user": {
      "displayName": "Hồ Trường",
      "userId": "11354465266874689807"
     },
     "user_tz": -420
    },
    "id": "zK9waXuqqco9",
    "outputId": "9ea1710d-e618-4ba9-a7f8-afde9261fe85"
   },
   "outputs": [
    {
     "ename": "TypeError",
     "evalue": "ignored",
     "output_type": "error",
     "traceback": [
      "\u001b[0;31m---------------------------------------------------------------------------\u001b[0m",
      "\u001b[0;31mTypeError\u001b[0m                                 Traceback (most recent call last)",
      "\u001b[0;32m<ipython-input-31-bf6ad2f58560>\u001b[0m in \u001b[0;36m<cell line: 1>\u001b[0;34m()\u001b[0m\n\u001b[0;32m----> 1\u001b[0;31m \u001b[0mtudien_dongvat\u001b[0m\u001b[0;34m[\u001b[0m\u001b[0;34m[\u001b[0m\u001b[0;34m'An'\u001b[0m\u001b[0;34m,\u001b[0m\u001b[0;36m1\u001b[0m\u001b[0;34m]\u001b[0m\u001b[0;34m]\u001b[0m\u001b[0;34m=\u001b[0m \u001b[0;34m'an thích an bánh mỳ'\u001b[0m\u001b[0;34m\u001b[0m\u001b[0;34m\u001b[0m\u001b[0m\n\u001b[0m\u001b[1;32m      2\u001b[0m \u001b[0mprint\u001b[0m\u001b[0;34m(\u001b[0m\u001b[0mtudien_dongvat\u001b[0m\u001b[0;34m)\u001b[0m\u001b[0;34m\u001b[0m\u001b[0;34m\u001b[0m\u001b[0m\n",
      "\u001b[0;31mTypeError\u001b[0m: unhashable type: 'list'"
     ]
    }
   ],
   "source": [
    "tudien_dongvat[['An',1]]= 'an thích an bánh mỳ'\n",
    "print(tudien_dongvat)"
   ]
  },
  {
   "attachments": {},
   "cell_type": "markdown",
   "metadata": {},
   "source": [
    "**Lưu ý:**\n",
    "- Có thể thấy trong 1 dict dùng được keys vs value bằng nhiều kiểu dữ liệu khác nhau\n",
    "- Chú ý cách truy cập keys khi lấy ra giá trị của keys đó"
   ]
  },
  {
   "cell_type": "markdown",
   "metadata": {
    "id": "pklueeyKC0BH"
   },
   "source": [
    "## Comment trong python"
   ]
  },
  {
   "cell_type": "markdown",
   "metadata": {
    "id": "FXp8sC94DryM"
   },
   "source": [
    "Trong python không có comment nhiều trong nhiều dòng chỉ có comment 1 dòng.\n",
    "\n",
    "Để comment được nhiều dòng thì phải comment từng dòng"
   ]
  },
  {
   "cell_type": "code",
   "execution_count": null,
   "metadata": {
    "id": "AN9Xvj8-xKDj"
   },
   "outputs": [],
   "source": [
    "# Đây là comment 1 dòng\n",
    "print('hưerwerar')"
   ]
  },
  {
   "cell_type": "code",
   "execution_count": null,
   "metadata": {
    "id": "wnulWMIHxg1b"
   },
   "outputs": [],
   "source": [
    "# Đây là\n",
    "# comment\n",
    "# trên nhiều dòng"
   ]
  },
  {
   "cell_type": "code",
   "execution_count": null,
   "metadata": {
    "colab": {
     "base_uri": "https://localhost:8080/",
     "height": 35
    },
    "executionInfo": {
     "elapsed": 304,
     "status": "ok",
     "timestamp": 1681099912132,
     "user": {
      "displayName": "Hồ Trường",
      "userId": "11354465266874689807"
     },
     "user_tz": -420
    },
    "id": "9nqj0_2jC2SJ",
    "outputId": "220286e5-5292-481b-9ca8-69a50b359a3f"
   },
   "outputs": [
    {
     "data": {
      "application/vnd.google.colaboratory.intrinsic+json": {
       "type": "string"
      },
      "text/plain": [
       "'Đâu không phải comment'"
      ]
     },
     "execution_count": 61,
     "metadata": {},
     "output_type": "execute_result"
    }
   ],
   "source": [
    "\"Đâu không phải comment\""
   ]
  },
  {
   "cell_type": "code",
   "execution_count": null,
   "metadata": {
    "colab": {
     "base_uri": "https://localhost:8080/",
     "height": 35
    },
    "executionInfo": {
     "elapsed": 296,
     "status": "ok",
     "timestamp": 1681100003742,
     "user": {
      "displayName": "Hồ Trường",
      "userId": "11354465266874689807"
     },
     "user_tz": -420
    },
    "id": "JNFd7iBnxcZ9",
    "outputId": "384aebbd-d9db-486a-f334-b9840829d627"
   },
   "outputs": [
    {
     "data": {
      "application/vnd.google.colaboratory.intrinsic+json": {
       "type": "string"
      },
      "text/plain": [
       "\"\\nĐây \\ncũng không phải\\nlà comment\\nprint('hello')\\nhello\\n\""
      ]
     },
     "execution_count": 68,
     "metadata": {},
     "output_type": "execute_result"
    }
   ],
   "source": [
    "'''\n",
    "Đây \n",
    "cũng không phải\n",
    "là comment\n",
    "print('hello')\n",
    "hello\n",
    "'''"
   ]
  },
  {
   "attachments": {},
   "cell_type": "markdown",
   "metadata": {
    "id": "LrxuKgLGx8hd"
   },
   "source": [
    "Thực chất nháy đơn không phải là comment mà là một xâu.\n",
    "\n",
    "Trong python nếu chỉ viết xâu ra sẽ xâu sẽ không được hiển thị ra nên nhiều trường hợp người ta coi việc biến các đoạn mã thành xâu như là comment"
   ]
  },
  {
   "cell_type": "code",
   "execution_count": null,
   "metadata": {
    "colab": {
     "base_uri": "https://localhost:8080/"
    },
    "executionInfo": {
     "elapsed": 294,
     "status": "ok",
     "timestamp": 1681121670510,
     "user": {
      "displayName": "Hồ Trường",
      "userId": "11354465266874689807"
     },
     "user_tz": -420
    },
    "id": "g9kOw2-cfsan",
    "outputId": "7ee217a5-3152-40c1-f326-8ff91ac472ee"
   },
   "outputs": [
    {
     "name": "stdout",
     "output_type": "stream",
     "text": [
      "<class 'str'>\n"
     ]
    }
   ],
   "source": [
    "print(type('''\n",
    "Đây \n",
    "cũng không phải\n",
    "là comment\n",
    "'''))"
   ]
  },
  {
   "cell_type": "code",
   "execution_count": null,
   "metadata": {
    "colab": {
     "base_uri": "https://localhost:8080/"
    },
    "executionInfo": {
     "elapsed": 278,
     "status": "ok",
     "timestamp": 1681121676567,
     "user": {
      "displayName": "Hồ Trường",
      "userId": "11354465266874689807"
     },
     "user_tz": -420
    },
    "id": "vSy98k7vvrqm",
    "outputId": "dd91b693-2e11-4fe0-910d-a25cac7d173e"
   },
   "outputs": [
    {
     "name": "stdout",
     "output_type": "stream",
     "text": [
      "\n",
      "Đây \n",
      "cũng không phải\n",
      "là comment\n",
      "\n"
     ]
    }
   ],
   "source": [
    "print('''\n",
    "Đây \n",
    "cũng không phải\n",
    "là comment\n",
    "''')"
   ]
  },
  {
   "attachments": {},
   "cell_type": "markdown",
   "metadata": {
    "id": "Nv46eqxbgvrA"
   },
   "source": [
    "## 3. Toán tử trong python"
   ]
  },
  {
   "attachments": {},
   "cell_type": "markdown",
   "metadata": {
    "id": "hcjbl7MfkBFG"
   },
   "source": [
    "### 3.1. **Toán tử số học**\n",
    "- \\+ : cộng\n",
    "- \\- : trừ\n",
    "- \\* : Nhân\n",
    "- / : Chia\n",
    "- // : Chia lấy nguyên\n",
    "- % : Chia lấy dư\n",
    "- ** : Lũy thừa\n"
   ]
  },
  {
   "cell_type": "code",
   "execution_count": null,
   "metadata": {
    "colab": {
     "base_uri": "https://localhost:8080/"
    },
    "executionInfo": {
     "elapsed": 3,
     "status": "ok",
     "timestamp": 1671188574058,
     "user": {
      "displayName": "Hồ Trường",
      "userId": "11354465266874689807"
     },
     "user_tz": -420
    },
    "id": "kjxu7hYfklf5",
    "outputId": "de15ca5f-3a9b-4536-84c7-2412d976f220"
   },
   "outputs": [
    {
     "name": "stdout",
     "output_type": "stream",
     "text": [
      "13\n",
      "5\n",
      "36\n",
      "2.25\n",
      "2\n",
      "1\n",
      "6561\n"
     ]
    }
   ],
   "source": [
    "a = 9\n",
    "b = 4\n",
    "  \n",
    "# Cộng\n",
    "add = a + b\n",
    "  \n",
    "# Trừ\n",
    "sub = a - b\n",
    "  \n",
    "# Nhân\n",
    "mul = a * b\n",
    "  \n",
    "# Chia\n",
    "div1 = a / b\n",
    "  \n",
    "# Chia lấy nguyên\n",
    "div2 = a // b\n",
    "  \n",
    "# Chia lấy dư\n",
    "mod = a % b\n",
    "  \n",
    "# Lũy thừa\n",
    "p = a ** b\n",
    "\n",
    "print(add)\n",
    "print(sub)\n",
    "print(mul)\n",
    "print(div1)\n",
    "print(div2)\n",
    "print(mod)\n",
    "print(p)"
   ]
  },
  {
   "attachments": {},
   "cell_type": "markdown",
   "metadata": {
    "id": "eV1KRketnxYQ"
   },
   "source": [
    "### 3.2. **Toán tử so sánh**\n",
    "- \\> :\tSo sánh lớn hơn\n",
    "- <\t: So sánh nhỏ hơn\n",
    "- ==\t: So sánh bằng\n",
    "- !=\t: So sánh khác\n",
    "- \\>=\t: So sánh lớn hơn hoặc bằng\n",
    "- <=\t: So sánh nhỏ hơn hoặc bằng"
   ]
  },
  {
   "cell_type": "code",
   "execution_count": null,
   "metadata": {
    "colab": {
     "base_uri": "https://localhost:8080/"
    },
    "executionInfo": {
     "elapsed": 7,
     "status": "ok",
     "timestamp": 1671188759118,
     "user": {
      "displayName": "Hồ Trường",
      "userId": "11354465266874689807"
     },
     "user_tz": -420
    },
    "id": "JYmuoQ6qmq43",
    "outputId": "b4310353-b5a5-40a7-895a-5544c61f232b"
   },
   "outputs": [
    {
     "data": {
      "text/plain": [
       "False"
      ]
     },
     "execution_count": 14,
     "metadata": {},
     "output_type": "execute_result"
    }
   ],
   "source": [
    "a = 1\n",
    "b = 1.0\n",
    "a is b\n",
    "\n",
    "a = 13\n",
    "b = 33\n",
    "  \n",
    "# a > b is False\n",
    "print(a > b)\n",
    "  \n",
    "# a < b is True\n",
    "print(a < b)\n",
    "  \n",
    "# a == b is False\n",
    "print(a == b)\n",
    "  \n",
    "# a != b is True\n",
    "print(a != b)\n",
    "  \n",
    "# a >= b is False\n",
    "print(a >= b)\n",
    "  \n",
    "# a <= b is True\n",
    "print(a <= b)"
   ]
  },
  {
   "attachments": {},
   "cell_type": "markdown",
   "metadata": {
    "id": "9PQXRH-vqwjc"
   },
   "source": [
    "### 3.3. **Toán tử logic**\n",
    "- and : logic hội\n",
    "- or : logic tuyển\n",
    "- not : logics phủ định"
   ]
  },
  {
   "cell_type": "code",
   "execution_count": null,
   "metadata": {
    "colab": {
     "base_uri": "https://localhost:8080/"
    },
    "executionInfo": {
     "elapsed": 602,
     "status": "ok",
     "timestamp": 1671527007730,
     "user": {
      "displayName": "Hồ Trường",
      "userId": "11354465266874689807"
     },
     "user_tz": -420
    },
    "id": "yjIHCf2GV7vj",
    "outputId": "ff642b7c-2657-45a5-cefe-1cc839f36899"
   },
   "outputs": [
    {
     "name": "stdout",
     "output_type": "stream",
     "text": [
      "False\n",
      "True\n",
      "False\n"
     ]
    }
   ],
   "source": [
    "a = True\n",
    "b = False\n",
    "\n",
    "# phép hội\n",
    "print(a and b)\n",
    "  \n",
    "# phép tuyển\n",
    "print(a or b)\n",
    "  \n",
    "# phép phủ định\n",
    "print(not a)\n"
   ]
  },
  {
   "attachments": {},
   "cell_type": "markdown",
   "metadata": {
    "id": "MMn_H1TLWcra"
   },
   "source": [
    "### 3.4. Toán tử kiểm tra thành viên\n",
    "- in : có là là thành viên không\n",
    "- not in : không phải là thành viên"
   ]
  },
  {
   "cell_type": "code",
   "execution_count": null,
   "metadata": {
    "colab": {
     "base_uri": "https://localhost:8080/"
    },
    "executionInfo": {
     "elapsed": 5,
     "status": "ok",
     "timestamp": 1671268455191,
     "user": {
      "displayName": "Hồ Trường",
      "userId": "11354465266874689807"
     },
     "user_tz": -420
    },
    "id": "nbq0RcIKW9dO",
    "outputId": "4bd46853-286e-4de6-a3aa-09e252b3f124"
   },
   "outputs": [
    {
     "name": "stdout",
     "output_type": "stream",
     "text": [
      "False\n",
      "True\n"
     ]
    }
   ],
   "source": [
    "x = 24\n",
    "y = 20\n",
    "List = [10, 20, 30, 40, 50]\n",
    "\n",
    "print(x in List)\n",
    "\n",
    "print(y in List)"
   ]
  },
  {
   "cell_type": "code",
   "execution_count": null,
   "metadata": {
    "colab": {
     "base_uri": "https://localhost:8080/"
    },
    "executionInfo": {
     "elapsed": 4,
     "status": "ok",
     "timestamp": 1681122191415,
     "user": {
      "displayName": "Hồ Trường",
      "userId": "11354465266874689807"
     },
     "user_tz": -420
    },
    "id": "haUwIzF2xqSP",
    "outputId": "3344b3dc-91ae-4884-9fb1-e3591b4fd1bc"
   },
   "outputs": [
    {
     "data": {
      "text/plain": [
       "True"
      ]
     },
     "execution_count": 71,
     "metadata": {},
     "output_type": "execute_result"
    }
   ],
   "source": [
    "ds_lop = {'an':10,'binh':9,'cuong':8}\n",
    "'an' in ds_lop"
   ]
  },
  {
   "cell_type": "code",
   "execution_count": null,
   "metadata": {
    "colab": {
     "base_uri": "https://localhost:8080/"
    },
    "executionInfo": {
     "elapsed": 4,
     "status": "ok",
     "timestamp": 1681122191720,
     "user": {
      "displayName": "Hồ Trường",
      "userId": "11354465266874689807"
     },
     "user_tz": -420
    },
    "id": "pM-M9lO0sKp9",
    "outputId": "36de9243-2c40-4bd0-c7bc-ebbb05b7d9cf"
   },
   "outputs": [
    {
     "data": {
      "text/plain": [
       "False"
      ]
     },
     "execution_count": 72,
     "metadata": {},
     "output_type": "execute_result"
    }
   ],
   "source": [
    "10 in ds_lop"
   ]
  },
  {
   "attachments": {},
   "cell_type": "markdown",
   "metadata": {
    "id": "NRzfNghaXpwt"
   },
   "source": [
    "## 4. Câu lệnh rẽ nhánh"
   ]
  },
  {
   "cell_type": "markdown",
   "metadata": {
    "id": "nZob1LgGanFq"
   },
   "source": [
    "Trong Python không dùng ngoặc nhọn {} để xác định phạm vi như các ngôn ngữ lập trình khác\n",
    "\n",
    "Python sử thụt dòng để xác định phạm vi. \n",
    "  - Thụt dòng có thể dùng phím cách hoạt phím tab.\n",
    "\n",
    "  - Một phạm vi được xác định từ lúc xuất hiện dấu : và kết thúc bởi không thụt dòng"
   ]
  },
  {
   "attachments": {},
   "cell_type": "markdown",
   "metadata": {
    "id": "6H4J1HyvcT0M"
   },
   "source": [
    "### 4.1. Câu lệnh if"
   ]
  },
  {
   "cell_type": "code",
   "execution_count": null,
   "metadata": {
    "colab": {
     "base_uri": "https://localhost:8080/"
    },
    "executionInfo": {
     "elapsed": 6,
     "status": "ok",
     "timestamp": 1681690960246,
     "user": {
      "displayName": "Hồ Trường",
      "userId": "11354465266874689807"
     },
     "user_tz": -420
    },
    "id": "Vt9tO1yjZ4nv",
    "outputId": "5429da5c-be17-4829-acc5-6af1e229191b"
   },
   "outputs": [
    {
     "name": "stdout",
     "output_type": "stream",
     "text": [
      "b lớn hơn a\n",
      "334\n",
      "so b bang 334\n",
      "end chương trình\n"
     ]
    }
   ],
   "source": [
    "a = 333\n",
    "b = 334\n",
    "if b > a:\n",
    "  print('b lớn hơn a')\n",
    "  print(b)\n",
    "  if b == 334:\n",
    "    print('so b bang 334')\n",
    "print('end chương trình')"
   ]
  },
  {
   "cell_type": "code",
   "execution_count": null,
   "metadata": {
    "colab": {
     "base_uri": "https://localhost:8080/",
     "height": 130
    },
    "executionInfo": {
     "elapsed": 304,
     "status": "error",
     "timestamp": 1671873029495,
     "user": {
      "displayName": "Hồ Trường",
      "userId": "11354465266874689807"
     },
     "user_tz": -420
    },
    "id": "xFyr3C0cZbxW",
    "outputId": "a7f6ddec-f882-4abe-c8e2-25da698c8f45"
   },
   "outputs": [
    {
     "ename": "SyntaxError",
     "evalue": "ignored",
     "output_type": "error",
     "traceback": [
      "\u001b[0;36m  File \u001b[0;32m\"<ipython-input-82-98232569aa14>\"\u001b[0;36m, line \u001b[0;32m3\u001b[0m\n\u001b[0;31m    if b > a\u001b[0m\n\u001b[0m            ^\u001b[0m\n\u001b[0;31mSyntaxError\u001b[0m\u001b[0;31m:\u001b[0m invalid syntax\n"
     ]
    }
   ],
   "source": [
    "a = 333\n",
    "b = 200\n",
    "if b > a\n",
    "  print('b lớn hơn a')\n",
    "  print(b)\n",
    "print('end chương trình')"
   ]
  },
  {
   "cell_type": "markdown",
   "metadata": {
    "id": "PfY7NfoxYlBh"
   },
   "source": [
    "Nếu không thụt dòng chương trình sẽ báo lỗi"
   ]
  },
  {
   "cell_type": "code",
   "execution_count": null,
   "metadata": {
    "colab": {
     "base_uri": "https://localhost:8080/",
     "height": 131
    },
    "executionInfo": {
     "elapsed": 461,
     "status": "error",
     "timestamp": 1671527244626,
     "user": {
      "displayName": "Hồ Trường",
      "userId": "11354465266874689807"
     },
     "user_tz": -420
    },
    "id": "1yU1itKVbrql",
    "outputId": "bf58122c-d482-4299-853d-82b4f1f7aebf"
   },
   "outputs": [
    {
     "ename": "IndentationError",
     "evalue": "ignored",
     "output_type": "error",
     "traceback": [
      "\u001b[0;36m  File \u001b[0;32m\"<ipython-input-84-6dd436371b47>\"\u001b[0;36m, line \u001b[0;32m4\u001b[0m\n\u001b[0;31m    print('b lớn hơn a')\u001b[0m\n\u001b[0m    ^\u001b[0m\n\u001b[0;31mIndentationError\u001b[0m\u001b[0;31m:\u001b[0m expected an indented block\n"
     ]
    }
   ],
   "source": [
    "a = 33\n",
    "b = 200\n",
    "if b > a:\n",
    "print('b lớn hơn a')"
   ]
  },
  {
   "cell_type": "markdown",
   "metadata": {
    "id": "I1GbKb-OaVlT"
   },
   "source": [
    "Có thụt nhưng không bằng nhau thì cũng lỗi"
   ]
  },
  {
   "cell_type": "code",
   "execution_count": null,
   "metadata": {
    "colab": {
     "base_uri": "https://localhost:8080/",
     "height": 131
    },
    "executionInfo": {
     "elapsed": 424,
     "status": "error",
     "timestamp": 1671527268434,
     "user": {
      "displayName": "Hồ Trường",
      "userId": "11354465266874689807"
     },
     "user_tz": -420
    },
    "id": "lQK7FXDCaSey",
    "outputId": "8f50ddcb-d9cf-415d-d44f-0b68c465feed"
   },
   "outputs": [
    {
     "ename": "IndentationError",
     "evalue": "ignored",
     "output_type": "error",
     "traceback": [
      "\u001b[0;36m  File \u001b[0;32m\"<ipython-input-86-5956d317784f>\"\u001b[0;36m, line \u001b[0;32m5\u001b[0m\n\u001b[0;31m    print('a:',a)\u001b[0m\n\u001b[0m    ^\u001b[0m\n\u001b[0;31mIndentationError\u001b[0m\u001b[0;31m:\u001b[0m unexpected indent\n"
     ]
    }
   ],
   "source": [
    "a = 33\n",
    "b = 200\n",
    "if b > a:\n",
    " print('b lớn hơn a')\n",
    "  print('a:',a)\n",
    " print('b:',b)"
   ]
  },
  {
   "attachments": {},
   "cell_type": "markdown",
   "metadata": {
    "id": "ubxgjo27cZVO"
   },
   "source": [
    "### 4.2. Câu lệnh if else"
   ]
  },
  {
   "cell_type": "code",
   "execution_count": null,
   "metadata": {
    "colab": {
     "base_uri": "https://localhost:8080/"
    },
    "executionInfo": {
     "elapsed": 292,
     "status": "ok",
     "timestamp": 1671873055128,
     "user": {
      "displayName": "Hồ Trường",
      "userId": "11354465266874689807"
     },
     "user_tz": -420
    },
    "id": "QFoKlp6IceKf",
    "outputId": "11c4aa04-fa9e-4cde-b831-6639e4d06e2c"
   },
   "outputs": [
    {
     "name": "stdout",
     "output_type": "stream",
     "text": [
      "a lớn hơn b\n"
     ]
    }
   ],
   "source": [
    "a = 33\n",
    "b = 1\n",
    "if b > a:\n",
    "  print('b lớn hơn a')\n",
    "else:\n",
    "  print('a lớn hơn b')"
   ]
  },
  {
   "cell_type": "markdown",
   "metadata": {
    "id": "CfmHzHnrMg47"
   },
   "source": [
    "Kiểm tra năm nhuận\n",
    "\n",
    "chia hết cho 400 hoặc chia hết cho 4 và không chia hết cho 100"
   ]
  },
  {
   "cell_type": "code",
   "execution_count": null,
   "metadata": {
    "colab": {
     "base_uri": "https://localhost:8080/"
    },
    "executionInfo": {
     "elapsed": 2875,
     "status": "ok",
     "timestamp": 1681691592260,
     "user": {
      "displayName": "Hồ Trường",
      "userId": "11354465266874689807"
     },
     "user_tz": -420
    },
    "id": "__LwzK7dnwd7",
    "outputId": "2212eb08-f33c-4e57-97a5-6d3e2a629c0e"
   },
   "outputs": [
    {
     "name": "stdout",
     "output_type": "stream",
     "text": [
      "2000\n",
      "nam nhuan\n"
     ]
    }
   ],
   "source": [
    "a = int(input())\n",
    "if a % 400 == 0 or (a % 4 == 0 and a % 100 != 0):\n",
    "  print('nam nhuan')\n",
    "else:\n",
    "  print('khong la nam nhuan')"
   ]
  },
  {
   "attachments": {},
   "cell_type": "markdown",
   "metadata": {
    "id": "9Sib9DJpcus3"
   },
   "source": [
    "### 4.3. Câu lệnh if elif"
   ]
  },
  {
   "cell_type": "code",
   "execution_count": null,
   "metadata": {
    "colab": {
     "base_uri": "https://localhost:8080/"
    },
    "executionInfo": {
     "elapsed": 290,
     "status": "ok",
     "timestamp": 1671270156416,
     "user": {
      "displayName": "Hồ Trường",
      "userId": "11354465266874689807"
     },
     "user_tz": -420
    },
    "id": "zAHRNbkzc2bD",
    "outputId": "55e4e836-0b54-46b0-d1d1-de01e83b3e09"
   },
   "outputs": [
    {
     "name": "stdout",
     "output_type": "stream",
     "text": [
      "a và b bằng nhau\n"
     ]
    }
   ],
   "source": [
    "a = 33\n",
    "b = 33\n",
    "if b > a:\n",
    "  print('b lớn hơn a')\n",
    "elif b == a:\n",
    "  print('a và b bằng nhau')\n",
    "else:\n",
    "  print('a lớn hơn b')"
   ]
  },
  {
   "cell_type": "code",
   "execution_count": null,
   "metadata": {
    "id": "TXP5MpmLNOUF"
   },
   "outputs": [],
   "source": [
    "a = 33\n",
    "b = 33\n",
    "if b > a:\n",
    "  print('b lớn hơn a')\n",
    "else:\n",
    "  if b == a:\n",
    "    print('a và b bằng nhau')\n",
    "  else:\n",
    "    print('a lớn hơn b')"
   ]
  },
  {
   "attachments": {},
   "cell_type": "markdown",
   "metadata": {
    "id": "SWxpdOpCYijK"
   },
   "source": [
    "## 5. Vòng lặp"
   ]
  },
  {
   "cell_type": "code",
   "execution_count": null,
   "metadata": {
    "colab": {
     "base_uri": "https://localhost:8080/"
    },
    "executionInfo": {
     "elapsed": 370,
     "status": "ok",
     "timestamp": 1671873595970,
     "user": {
      "displayName": "Hồ Trường",
      "userId": "11354465266874689807"
     },
     "user_tz": -420
    },
    "id": "lCVFTGaezF2c",
    "outputId": "b1ad8e71-748f-4873-bf58-233eb9ae3694"
   },
   "outputs": [
    {
     "data": {
      "text/plain": [
       "[0, 1, 2, 3, 4, 5, 6, 7, 8, 9]"
      ]
     },
     "execution_count": 88,
     "metadata": {},
     "output_type": "execute_result"
    }
   ],
   "source": [
    "list(range(0,10))"
   ]
  },
  {
   "cell_type": "code",
   "execution_count": null,
   "metadata": {
    "colab": {
     "base_uri": "https://localhost:8080/"
    },
    "executionInfo": {
     "elapsed": 8,
     "status": "ok",
     "timestamp": 1681691872137,
     "user": {
      "displayName": "Hồ Trường",
      "userId": "11354465266874689807"
     },
     "user_tz": -420
    },
    "id": "uXLfZlnBeh9y",
    "outputId": "b9f85d01-21f0-4036-b680-98d9a1c7eedb"
   },
   "outputs": [
    {
     "name": "stdout",
     "output_type": "stream",
     "text": [
      "0\n",
      "1\n",
      "2\n",
      "3\n",
      "4\n",
      "5\n",
      "6\n",
      "7\n",
      "8\n",
      "9\n"
     ]
    }
   ],
   "source": [
    "for i in range(10):\n",
    "  print(i)"
   ]
  },
  {
   "cell_type": "code",
   "execution_count": null,
   "metadata": {
    "colab": {
     "base_uri": "https://localhost:8080/"
    },
    "executionInfo": {
     "elapsed": 6,
     "status": "ok",
     "timestamp": 1681691909794,
     "user": {
      "displayName": "Hồ Trường",
      "userId": "11354465266874689807"
     },
     "user_tz": -420
    },
    "id": "89PzkHthpd6x",
    "outputId": "4f0806db-4436-4951-9138-0b7bec795cf6"
   },
   "outputs": [
    {
     "name": "stdout",
     "output_type": "stream",
     "text": [
      "0\n",
      "1\n",
      "2\n",
      "3\n",
      "4\n",
      "5\n",
      "6\n",
      "7\n",
      "8\n",
      "9\n"
     ]
    }
   ],
   "source": [
    "for i in range(0,10):\n",
    "  print(i)"
   ]
  },
  {
   "cell_type": "code",
   "execution_count": null,
   "metadata": {
    "colab": {
     "base_uri": "https://localhost:8080/"
    },
    "executionInfo": {
     "elapsed": 7,
     "status": "ok",
     "timestamp": 1681691942343,
     "user": {
      "displayName": "Hồ Trường",
      "userId": "11354465266874689807"
     },
     "user_tz": -420
    },
    "id": "0__osGVYplHR",
    "outputId": "1ad67aa7-b689-4bcb-833a-d629dd2e45eb"
   },
   "outputs": [
    {
     "name": "stdout",
     "output_type": "stream",
     "text": [
      "5\n",
      "6\n",
      "7\n",
      "8\n",
      "9\n"
     ]
    }
   ],
   "source": [
    "for i in range(5,10):\n",
    "  print(i)"
   ]
  },
  {
   "cell_type": "code",
   "execution_count": null,
   "metadata": {
    "colab": {
     "base_uri": "https://localhost:8080/"
    },
    "executionInfo": {
     "elapsed": 618,
     "status": "ok",
     "timestamp": 1681691977574,
     "user": {
      "displayName": "Hồ Trường",
      "userId": "11354465266874689807"
     },
     "user_tz": -420
    },
    "id": "tRDXINk_prqJ",
    "outputId": "6dc29c48-b46f-4dc5-e6d1-eefa68b0d668"
   },
   "outputs": [
    {
     "name": "stdout",
     "output_type": "stream",
     "text": [
      "0\n",
      "2\n",
      "4\n",
      "6\n",
      "8\n"
     ]
    }
   ],
   "source": [
    "for i in range(0,10,2):\n",
    "  print(i)"
   ]
  },
  {
   "cell_type": "code",
   "execution_count": null,
   "metadata": {
    "colab": {
     "base_uri": "https://localhost:8080/"
    },
    "executionInfo": {
     "elapsed": 8,
     "status": "ok",
     "timestamp": 1681692033558,
     "user": {
      "displayName": "Hồ Trường",
      "userId": "11354465266874689807"
     },
     "user_tz": -420
    },
    "id": "chseROy4Z5NK",
    "outputId": "58209c44-9d1e-4a84-8be0-b7fcc44bfd10"
   },
   "outputs": [
    {
     "name": "stdout",
     "output_type": "stream",
     "text": [
      "2\n",
      "3\n",
      "5\n",
      "7\n",
      "11\n",
      "13\n",
      "17\n",
      "19\n",
      "21\n"
     ]
    }
   ],
   "source": [
    "prime = [2,3,5,7,11,13,17,19,21]\n",
    "for i in prime:\n",
    "  print(i)"
   ]
  },
  {
   "cell_type": "code",
   "execution_count": null,
   "metadata": {
    "colab": {
     "base_uri": "https://localhost:8080/"
    },
    "executionInfo": {
     "elapsed": 438,
     "status": "ok",
     "timestamp": 1671873728654,
     "user": {
      "displayName": "Hồ Trường",
      "userId": "11354465266874689807"
     },
     "user_tz": -420
    },
    "id": "x4rWeP0WcCLg",
    "outputId": "b613d9df-20b4-43ab-aebc-1edc9b0ebd7f"
   },
   "outputs": [
    {
     "name": "stdout",
     "output_type": "stream",
     "text": [
      "[0, 1, 2, 3, 4, 5, 6, 7, 8, 9]\n"
     ]
    }
   ],
   "source": [
    "a = [i for i in range(10)]\n",
    "print(a)"
   ]
  },
  {
   "cell_type": "code",
   "execution_count": null,
   "metadata": {
    "colab": {
     "base_uri": "https://localhost:8080/"
    },
    "executionInfo": {
     "elapsed": 314,
     "status": "ok",
     "timestamp": 1681692149980,
     "user": {
      "displayName": "Hồ Trường",
      "userId": "11354465266874689807"
     },
     "user_tz": -420
    },
    "id": "ysaPBhGKqXyA",
    "outputId": "96537da9-7bce-4b95-d484-be250bdc83ab"
   },
   "outputs": [
    {
     "data": {
      "text/plain": [
       "[0, 1, 4, 9, 16, 25, 36, 49, 64, 81]"
      ]
     },
     "execution_count": 27,
     "metadata": {},
     "output_type": "execute_result"
    }
   ],
   "source": [
    "a = [i*i for i in range(10)]\n",
    "a"
   ]
  },
  {
   "attachments": {},
   "cell_type": "markdown",
   "metadata": {
    "id": "dQq5CCeEudgA"
   },
   "source": [
    "### Bài tập\n"
   ]
  },
  {
   "cell_type": "code",
   "execution_count": null,
   "metadata": {
    "id": "zGRfhBAbtst-"
   },
   "outputs": [],
   "source": [
    "a = {i:i*i for i in range(10)}"
   ]
  },
  {
   "attachments": {},
   "cell_type": "markdown",
   "metadata": {},
   "source": [
    "**Bài 1:** Tạo một danh sách gồm các số thực 10 phần tử số thực, xuất ra 10 phần tử đó\n",
    "\n",
    "**Bài 2:** Tạo một ma trận có kích thước MxN\n",
    "\n",
    "**Bài 3:** Tạo 2 véc-tơ A và B, trả về kết quả phép cộng giữa hai véc-tơ"
   ]
  },
  {
   "attachments": {},
   "cell_type": "markdown",
   "metadata": {},
   "source": [
    "## 6. Hàm"
   ]
  },
  {
   "cell_type": "markdown",
   "metadata": {},
   "source": [
    "\n",
    "```python\n",
    "def <tên hàm>(<các tham số>):\n",
    "  '''\n",
    "  <Tài liệu mô tả>\n",
    "  '''\n",
    "  <thân hàm>\n",
    "  return <giá trị trả về của hàm>\n",
    "```"
   ]
  },
  {
   "cell_type": "code",
   "execution_count": null,
   "metadata": {},
   "outputs": [
    {
     "name": "stdout",
     "output_type": "stream",
     "text": [
      "hello world!!\n"
     ]
    }
   ],
   "source": [
    "def hello_world():\n",
    "  print('hello world!!')\n",
    "hello_world()"
   ]
  },
  {
   "cell_type": "code",
   "execution_count": null,
   "metadata": {},
   "outputs": [
    {
     "name": "stdout",
     "output_type": "stream",
     "text": [
      "hello Truong\n"
     ]
    }
   ],
   "source": [
    "def hello_name(name):\n",
    "  print('hello',name)\n",
    "hello_name('Truong')"
   ]
  },
  {
   "cell_type": "code",
   "execution_count": null,
   "metadata": {},
   "outputs": [
    {
     "name": "stdout",
     "output_type": "stream",
     "text": [
      "hello Truong\n",
      "hello Tan\n"
     ]
    }
   ],
   "source": [
    "def hello_name(name,name_2 = None):\n",
    "  print('hello',name)\n",
    "  if name_2!= None:\n",
    "    print('hello',name_2)\n",
    "hello_name('Truong','Tan')"
   ]
  },
  {
   "cell_type": "code",
   "execution_count": null,
   "metadata": {},
   "outputs": [
    {
     "name": "stdout",
     "output_type": "stream",
     "text": [
      "a: 20\n",
      "b: 10\n"
     ]
    }
   ],
   "source": [
    "def swap(a,b):\n",
    "  '''\n",
    "  Hàm nhận đầu vào là 2 số\n",
    "  Hàm sử dụng để hoán đổi 2 số\n",
    "  Hàm trả về 2 số sau khi hoán đổi\n",
    "  '''\n",
    "  return b,a\n",
    "a = 10\n",
    "b = 20\n",
    "a,b = swap(a,b)\n",
    "print('a:',a)\n",
    "print('b:',b)"
   ]
  },
  {
   "cell_type": "code",
   "execution_count": null,
   "metadata": {},
   "outputs": [],
   "source": [
    "c = swap(a,b)"
   ]
  },
  {
   "cell_type": "code",
   "execution_count": null,
   "metadata": {},
   "outputs": [],
   "source": [
    "a,b = c"
   ]
  },
  {
   "cell_type": "code",
   "execution_count": null,
   "metadata": {},
   "outputs": [
    {
     "name": "stdout",
     "output_type": "stream",
     "text": [
      "a: 10\n",
      "b: 20\n"
     ]
    }
   ],
   "source": [
    "print('a:',a)\n",
    "print('b:',b)"
   ]
  },
  {
   "cell_type": "code",
   "execution_count": null,
   "metadata": {},
   "outputs": [
    {
     "name": "stdout",
     "output_type": "stream",
     "text": [
      "\n",
      "  Hàm nhận đầu vào là 2 số\n",
      "  Hàm sử dụng để hoán đổi 2 số\n",
      "  Hàm trả về 2 số sau khi hoán đổi\n",
      "  \n"
     ]
    }
   ],
   "source": [
    "print(swap.__doc__)"
   ]
  },
  {
   "cell_type": "code",
   "execution_count": null,
   "metadata": {},
   "outputs": [
    {
     "name": "stdout",
     "output_type": "stream",
     "text": [
      "11\n"
     ]
    }
   ],
   "source": [
    "def f(a):\n",
    "  a = 10\n",
    "a = 11\n",
    "f(a)\n",
    "print(a)"
   ]
  },
  {
   "attachments": {},
   "cell_type": "markdown",
   "metadata": {},
   "source": [
    "**Bài tập:** \n",
    "\n",
    "- Viết hàm thực hiện phép nhân ma trận A vs ma trận B và trả về kết quả của phép nhân ma trận. Lưu ý: không sử dụng các hàm có sẵn, sử dụng ***list*** để thực hành "
   ]
  },
  {
   "cell_type": "markdown",
   "metadata": {
    "id": "kaECwH90HIbq"
   },
   "source": [
    "## Đọc ghi file"
   ]
  },
  {
   "cell_type": "markdown",
   "metadata": {
    "id": "QKbTbpILHTZE"
   },
   "source": [
    "```python\n",
    "with open('tên file','kiểu xử lý') as file:\n",
    "  <nội dung xử lý file>\n",
    "```\n",
    "- Phương thức mở file\n",
    "  - 'r' : Đọc file. Báo lỗi nếu file chưa tồn tại\n",
    "  - 'a' : Ghi nối thêm vào cuối. Tạo file nếu file chưa tồn tại\n",
    "  - 'w' : Ghi file. Tạo file nếu file chưa tồn tại\n",
    "  - 'x' : Tạo file. Báo lỗi nếu file đã tồn tại\n",
    "\n",
    "- Kiểu xử lý\n",
    "  - 't' : xử lý text\n",
    "  - 'b' : xử lý binary\n",
    "\n",
    "```python\n",
    "with open('tên file','rb') as file: # đọc file binary\n",
    "  <nội dung xử lý file>\n",
    "\n",
    "with open('tên file','w') as file: # đọc file text\n",
    "  <nội dung xử lý file>\n",
    "```"
   ]
  },
  {
   "cell_type": "markdown",
   "metadata": {
    "id": "iG5mA6ZzPmzb"
   },
   "source": [
    "### Ghi file"
   ]
  },
  {
   "cell_type": "code",
   "execution_count": 51,
   "metadata": {
    "executionInfo": {
     "elapsed": 545,
     "status": "ok",
     "timestamp": 1681698065867,
     "user": {
      "displayName": "Hồ Trường",
      "userId": "11354465266874689807"
     },
     "user_tz": -420
    },
    "id": "qxcJpRvvC8MG"
   },
   "outputs": [],
   "source": [
    "with open('./WritingInColab.txt', 'w') as f:\n",
    "  f.write('hello world\\n')\n",
    "  f.write('this is second line\\n')\n",
    "  f.write('Đây là dòng thứ 3\\n')\n",
    "  f.write('Hôm nay là một ngày nắng đẹp, rất hợp để đi chơi')"
   ]
  },
  {
   "cell_type": "markdown",
   "metadata": {
    "id": "-euQrOE5Pr3m"
   },
   "source": [
    "### Đọc file"
   ]
  },
  {
   "cell_type": "code",
   "execution_count": 52,
   "metadata": {
    "colab": {
     "base_uri": "https://localhost:8080/"
    },
    "executionInfo": {
     "elapsed": 11,
     "status": "ok",
     "timestamp": 1681698116975,
     "user": {
      "displayName": "Hồ Trường",
      "userId": "11354465266874689807"
     },
     "user_tz": -420
    },
    "id": "vClp4j_8PzFI",
    "outputId": "d11d61ae-46da-46bd-c47d-00e1be3f4cfa"
   },
   "outputs": [
    {
     "data": {
      "text/plain": [
       "['hello world',\n",
       " 'this is second line',\n",
       " 'Đây là dòng thứ 3',\n",
       " 'Hôm nay là một ngày nắng đẹp, rất hợp để đi chơi']"
      ]
     },
     "execution_count": 52,
     "metadata": {},
     "output_type": "execute_result"
    }
   ],
   "source": [
    "with open('./WritingInColab.txt', 'r') as file_text:\n",
    "  line = file_text.read().splitlines()\n",
    "line"
   ]
  },
  {
   "cell_type": "code",
   "execution_count": 53,
   "metadata": {
    "colab": {
     "base_uri": "https://localhost:8080/"
    },
    "executionInfo": {
     "elapsed": 330,
     "status": "ok",
     "timestamp": 1681698157692,
     "user": {
      "displayName": "Hồ Trường",
      "userId": "11354465266874689807"
     },
     "user_tz": -420
    },
    "id": "gyHEr-C2eKSj",
    "outputId": "c384e7fa-e58e-4273-b0b7-fb0c8c57991b"
   },
   "outputs": [
    {
     "data": {
      "text/plain": [
       "['hello world\\n', 'this is second line\\n', 'Đây là dòng thứ 3\\n']"
      ]
     },
     "execution_count": 53,
     "metadata": {},
     "output_type": "execute_result"
    }
   ],
   "source": [
    "a = []\n",
    "with open('./WritingInColab.txt', 'r') as f:\n",
    "  a.append(f.readline())\n",
    "  a.append(f.readline())\n",
    "  a.append(f.readline())\n",
    "a"
   ]
  },
  {
   "cell_type": "markdown",
   "metadata": {
    "id": "FKZ9JtQKIJvP"
   },
   "source": [
    "### Cách đọc ghi khác"
   ]
  },
  {
   "cell_type": "markdown",
   "metadata": {
    "id": "J5FOQLPQIdN6"
   },
   "source": [
    "Nhược điểm khi không dùng with là file sẽ không tự động đóng"
   ]
  },
  {
   "cell_type": "code",
   "execution_count": 54,
   "metadata": {
    "colab": {
     "base_uri": "https://localhost:8080/"
    },
    "executionInfo": {
     "elapsed": 307,
     "status": "ok",
     "timestamp": 1681698247377,
     "user": {
      "displayName": "Hồ Trường",
      "userId": "11354465266874689807"
     },
     "user_tz": -420
    },
    "id": "8Uhnj815IL7H",
    "outputId": "c29fffa6-8616-47db-e4b4-b8fea0c23087"
   },
   "outputs": [
    {
     "data": {
      "text/plain": [
       "['hello world',\n",
       " 'this is second line',\n",
       " 'Đây là dòng thứ 3',\n",
       " 'Hôm nay là một ngày nắng đẹp, rất hợp để đi chơi']"
      ]
     },
     "execution_count": 54,
     "metadata": {},
     "output_type": "execute_result"
    }
   ],
   "source": [
    "f = open('./WritingInColab.txt', 'r') \n",
    "line = f.read().splitlines()\n",
    "f.close()\n",
    "line"
   ]
  },
  {
   "attachments": {},
   "cell_type": "markdown",
   "metadata": {},
   "source": [
    "**Bài tập:** Đọc file dữ liệu sau, thực hiện kiểm tra xem có bao nhiêu từ xuất hiện trong file dữ liệu. Từ nào xuất hiện nhiều nhất và xuất hiện bao nhiêu lần? (**Gợi ý:** sử dụng dict để đếm)\n",
    "\n",
    "**Link:** https://drive.google.com/file/d/1eif5iAOrrVdAgvDXdqM0ke0UvvM3JOHp/view?usp=share_link"
   ]
  }
 ],
 "metadata": {
  "colab": {
   "authorship_tag": "ABX9TyMzYXmgrBuVyp3qTTdye3Ub",
   "collapsed_sections": [
    "hcjbl7MfkBFG"
   ],
   "mount_file_id": "1jX_Q85x5Ghiqt2O4cSVTRbZmb40uhxG8",
   "provenance": []
  },
  "gpuClass": "standard",
  "kernelspec": {
   "display_name": "ML_DS",
   "language": "python",
   "name": "python3"
  },
  "language_info": {
   "codemirror_mode": {
    "name": "ipython",
    "version": 3
   },
   "file_extension": ".py",
   "mimetype": "text/x-python",
   "name": "python",
   "nbconvert_exporter": "python",
   "pygments_lexer": "ipython3",
   "version": "3.6.13"
  },
  "vscode": {
   "interpreter": {
    "hash": "d47558a0e180a7b0e117adf511c9b30b533f892b68c00645cc1bbaef085af29e"
   }
  }
 },
 "nbformat": 4,
 "nbformat_minor": 4
}
